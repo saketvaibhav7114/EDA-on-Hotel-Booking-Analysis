{
  "nbformat": 4,
  "nbformat_minor": 0,
  "metadata": {
    "colab": {
      "private_outputs": true,
      "provenance": [],
      "collapsed_sections": [
        "w6K7xa23Elo4",
        "yQaldy8SH6Dl",
        "PH-0ReGfmX4f",
        "mDgbUHAGgjLW",
        "O_i_v8NEhb9l",
        "HhfV-JJviCcP",
        "Y3lxredqlCYt",
        "3RnN4peoiCZX",
        "x71ZqKXriCWQ",
        "7hBIi_osiCS2",
        "JlHwYmJAmNHm",
        "35m5QtbWiB9F",
        "PoPl-ycgm1ru",
        "H0kj-8xxnORC",
        "nA9Y7ga8ng1Z",
        "PBTbrJXOngz2",
        "u3PMJOP6ngxN",
        "dauF4eBmngu3",
        "bKJF3rekwFvQ",
        "MSa1f5Uengrz",
        "GF8Ens_Soomf",
        "0wOQAZs5pc--",
        "K5QZ13OEpz2H",
        "lQ7QKXXCp7Bj",
        "448CDAPjqfQr",
        "KSlN3yHqYklG",
        "t6dVpIINYklI",
        "ijmpgYnKYklI",
        "-JiQyfWJYklI",
        "EM7whBJCYoAo",
        "fge-S5ZAYoAp",
        "85gYPyotYoAp",
        "RoGjAbkUYoAp",
        "4Of9eVA-YrdM",
        "iky9q4vBYrdO",
        "F6T5p64dYrdO",
        "y-Ehk30pYrdP",
        "bamQiAODYuh1",
        "QHF8YVU7Yuh3",
        "GwzvFGzlYuh3",
        "qYpmQ266Yuh3",
        "OH-pJp9IphqM",
        "bbFf2-_FphqN",
        "_ouA3fa0phqN",
        "Seke61FWphqN",
        "PIIx-8_IphqN",
        "t27r6nlMphqO",
        "r2jJGEOYphqO",
        "b0JNsNcRphqO",
        "BZR9WyysphqO",
        "jj7wYXLtphqO",
        "eZrbJ2SmphqO",
        "rFu4xreNphqO",
        "YJ55k-q6phqO",
        "gCFgpxoyphqP",
        "OVtJsKN_phqQ",
        "lssrdh5qphqQ",
        "U2RJ9gkRphqQ",
        "1M8mcRywphqQ",
        "tgIPom80phqQ",
        "JMzcOPDDphqR",
        "x-EpHcCOp1ci",
        "X_VqEhTip1ck",
        "8zGJKyg5p1ck",
        "PVzmfK_Ep1ck",
        "n3dbpmDWp1ck",
        "ylSl6qgtp1ck",
        "ZWILFDl5p1ck",
        "M7G43BXep1ck",
        "Ag9LCva-p1cl",
        "E6MkPsBcp1cl",
        "2cELzS2fp1cl",
        "3MPXvC8up1cl",
        "NC_X3p0fY2L0",
        "UV0SzAkaZNRQ",
        "YPEH6qLeZNRQ",
        "q29F0dvdveiT",
        "EXh0U9oCveiU",
        "22aHeOlLveiV",
        "JcMwzZxoAimU",
        "8G2x9gOozGDZ",
        "gCX9965dhzqZ",
        "gIfDvo9L0UH2"
      ],
      "gpuType": "T4",
      "cell_execution_strategy": "setup",
      "include_colab_link": true
    },
    "kernelspec": {
      "name": "python3",
      "display_name": "Python 3"
    },
    "language_info": {
      "name": "python"
    }
  },
  "cells": [
    {
      "cell_type": "markdown",
      "metadata": {
        "id": "view-in-github",
        "colab_type": "text"
      },
      "source": [
        "<a href=\"https://colab.research.google.com/github/saketvaibhav7114/EDA-on-Hotel-Booking-Analysis/blob/main/EDA_Capstone_Project.ipynb\" target=\"_parent\"><img src=\"https://colab.research.google.com/assets/colab-badge.svg\" alt=\"Open In Colab\"/></a>"
      ]
    },
    {
      "cell_type": "markdown",
      "source": [
        "#**Project Name:- Hotel Booking Analysis**\n"
      ],
      "metadata": {
        "id": "vncDsAP0Gaoa"
      }
    },
    {
      "cell_type": "markdown",
      "source": [
        "##### **Project Type**    - EDA\n",
        "##### **Contribution**    - Individual\n",
        "##### **Name -** Saket Vaibhav"
      ],
      "metadata": {
        "id": "beRrZCGUAJYm"
      }
    },
    {
      "cell_type": "markdown",
      "source": [
        "# **Project Summary -**\n",
        "\n",
        "This project aims to perform Exploratory Data Analysis (EDA) on a dataset containing hotel booking information to gain insights and understand patterns in customer behaviour, booking trends, and other relevant factors that impact the hospitality industry. By conducting a comprehensive EDA, we intend to extract meaningful information that can guide decision-making, improve customer experience, and optimise hotel management strategies.\n",
        "\n",
        "---\n",
        "\n",
        "\n",
        "\n",
        "---\n",
        "\n",
        "\n",
        "\n",
        "---\n",
        "\n",
        "\n",
        "\n",
        "\n",
        "\n",
        "\n",
        "\n",
        "\n",
        "**Objectives:**:\n",
        "\n",
        "**Data Cleaning and Preprocessing:-** The first step involves data cleaning and preprocessing to handle missing values, outliers, and inconsistencies in the dataset. This ensures the data's quality and reliability before proceeding with analysis.\n",
        "\n",
        "**Exploratory Data Analysis (EDA):-** Through a variety of statistical and visual techniques, we will explore the dataset to gain insight into various trends & patterns in hotel booking.\n",
        "\n",
        "**Customer Segmentation:-** Based on the analysis, we will attempt to segment customers into different groups based on their booking behaviors, demographics, and preferences. This can help in tailoring marketing strategies and service offerings to specific customer segments."
      ],
      "metadata": {
        "id": "FJNUwmbgGyua"
      }
    },
    {
      "cell_type": "markdown",
      "source": [
        "# **GitHub Link -**"
      ],
      "metadata": {
        "id": "w6K7xa23Elo4"
      }
    },
    {
      "cell_type": "markdown",
      "source": [
        "https://github.com/saketvaibhav7114/EDA-on-Hotel-Booking-Analysis"
      ],
      "metadata": {
        "id": "h1o69JH3Eqqn"
      }
    },
    {
      "cell_type": "markdown",
      "source": [
        "# **Problem Statement**\n"
      ],
      "metadata": {
        "id": "yQaldy8SH6Dl"
      }
    },
    {
      "cell_type": "markdown",
      "source": [
        "*   What are the seasonal booking patterns and trends?\n",
        "*   Which type of rooms are most most popular?\n",
        "*   What is the average length of stay of guests?\n",
        "*   Is there any correlation between customer demographics and booking behavior?\n",
        "*   Is there any correlation between previous cancellation data & re-booking?\n",
        "*   What is the cancellation rates?\n",
        "*   What are the reasons for cancellation?\n",
        "*   What are the customer preferences for booking channels (online vs. offline)?"
      ],
      "metadata": {
        "id": "DpeJGUA3kjGy"
      }
    },
    {
      "cell_type": "markdown",
      "source": [
        "#### **Define Your Business Objective?**"
      ],
      "metadata": {
        "id": "PH-0ReGfmX4f"
      }
    },
    {
      "cell_type": "markdown",
      "source": [
        "*   Identifying peak booking periods to optimize pricing and resource allocation.\n",
        "*   Understanding customer preferences to enhance personalized offerings.\n",
        "*   Developing strategies to reduce booking cancellations and enhance customer loyalty.\n",
        "*   Gaining a competitive advantage by leveraging data-driven decision-making.\n"
      ],
      "metadata": {
        "id": "PhDvGCAqmjP1"
      }
    },
    {
      "cell_type": "markdown",
      "source": [
        "# ***Let's Begin !***"
      ],
      "metadata": {
        "id": "O_i_v8NEhb9l"
      }
    },
    {
      "cell_type": "markdown",
      "source": [
        "## ***1. Know Your Data***"
      ],
      "metadata": {
        "id": "HhfV-JJviCcP"
      }
    },
    {
      "cell_type": "markdown",
      "source": [
        "### Import Libraries"
      ],
      "metadata": {
        "id": "Y3lxredqlCYt"
      }
    },
    {
      "cell_type": "markdown",
      "source": [
        "Why we import those libraries?\n",
        "\n",
        "•\t**pandas:-** for data analysis and manipulating dataset.\n",
        "\n",
        "•\t**NumPy:-** working with numerical values\n",
        "\n",
        "•\t**matplotlib:-** for data visualization and graphical plotting for python.\n",
        "\n",
        "•\t**datetime:-** to manipulate date and time object data.\n",
        "\n",
        "•\t**seaborn:-** for plotting statistical graph in python.\n"
      ],
      "metadata": {
        "id": "saGzAzkLcMn7"
      }
    },
    {
      "cell_type": "code",
      "source": [
        "# Import Libraries\n",
        "import pandas as pd\n",
        "import numpy as np\n",
        "import matplotlib.pyplot as plt\n",
        "%matplotlib inline\n",
        "import seaborn as sns\n",
        "from datetime import datetime\n",
        "import plotly.graph_objects as go\n",
        "import calendar\n",
        "import warnings\n",
        "warnings.filterwarnings('ignore')"
      ],
      "metadata": {
        "id": "M8Vqi-pPk-HR"
      },
      "execution_count": null,
      "outputs": []
    },
    {
      "cell_type": "markdown",
      "source": [
        "### Dataset Loading"
      ],
      "metadata": {
        "id": "3RnN4peoiCZX"
      }
    },
    {
      "cell_type": "code",
      "source": [
        "# Load Dataset\n",
        "hotel_booking_df=pd.read_csv('/content/Hotel Bookings.csv')"
      ],
      "metadata": {
        "id": "4CkvbW_SlZ_R"
      },
      "execution_count": null,
      "outputs": []
    },
    {
      "cell_type": "markdown",
      "source": [
        "### Dataset First View"
      ],
      "metadata": {
        "id": "x71ZqKXriCWQ"
      }
    },
    {
      "cell_type": "code",
      "source": [
        "# Dataset First Look\n",
        "pd.set_option(\"display.max_columns\",None)     # Display all the columns\n",
        "hotel_booking_df.head()                       # Display top 5 rows"
      ],
      "metadata": {
        "id": "LWNFOSvLl09H"
      },
      "execution_count": null,
      "outputs": []
    },
    {
      "cell_type": "code",
      "source": [
        "hotel_booking_df.tail()       # Display last 5 rows"
      ],
      "metadata": {
        "id": "hOVk4urwhj5j"
      },
      "execution_count": null,
      "outputs": []
    },
    {
      "cell_type": "markdown",
      "source": [
        "### Dataset Rows & Columns count"
      ],
      "metadata": {
        "id": "7hBIi_osiCS2"
      }
    },
    {
      "cell_type": "code",
      "source": [
        "# Dataset Rows & Columns count\n",
        "hotel_booking_df.shape"
      ],
      "metadata": {
        "id": "Kllu7SJgmLij"
      },
      "execution_count": null,
      "outputs": []
    },
    {
      "cell_type": "markdown",
      "source": [
        "### Dataset Information"
      ],
      "metadata": {
        "id": "JlHwYmJAmNHm"
      }
    },
    {
      "cell_type": "code",
      "source": [
        "# Dataset Info\n",
        "hotel_booking_df.info()"
      ],
      "metadata": {
        "id": "e9hRXRi6meOf"
      },
      "execution_count": null,
      "outputs": []
    },
    {
      "cell_type": "markdown",
      "source": [
        "#### Duplicate Values"
      ],
      "metadata": {
        "id": "35m5QtbWiB9F"
      }
    },
    {
      "cell_type": "code",
      "source": [
        "# Dataset Duplicate Value Count\n",
        "hotel_booking_df.duplicated().sum()"
      ],
      "metadata": {
        "id": "1sLdpKYkmox0"
      },
      "execution_count": null,
      "outputs": []
    },
    {
      "cell_type": "markdown",
      "source": [
        "#### Missing Values/Null Values"
      ],
      "metadata": {
        "id": "PoPl-ycgm1ru"
      }
    },
    {
      "cell_type": "code",
      "source": [
        "# Missing Values/Null Values Count\n",
        "missing_values= hotel_booking_df.isnull().sum()\n",
        "missing_values"
      ],
      "metadata": {
        "id": "GgHWkxvamxVg"
      },
      "execution_count": null,
      "outputs": []
    },
    {
      "cell_type": "code",
      "source": [
        "# Visualizing the missing values\n",
        "\n",
        "columns_with_missing_values = missing_values[missing_values > 0]      #  Filter columns with missing values\n",
        "\n",
        "# Calculate the percentage of missing values in each column\n",
        "total_rows = len(hotel_booking_df)\n",
        "percentage_missing = (columns_with_missing_values / total_rows) * 100\n",
        "\n",
        "# Create a bar chart\n",
        "plt.figure(figsize=(10, 6))\n",
        "bar_plot = columns_with_missing_values.plot(kind='bar', color='lightcoral')\n",
        "plt.xlabel('Columns')\n",
        "plt.ylabel('Number of Missing Values')\n",
        "plt.title('Number of Missing Values in Columns')\n",
        "plt.xticks(rotation=45, ha='center')\n",
        "plt.grid(axis='y', linestyle='--', alpha=0.7)\n",
        "\n",
        "# Display the percentage of missing values on top of each bar\n",
        "for index, value in enumerate(columns_with_missing_values):\n",
        "    plt.text(index, value, f'{percentage_missing[index]:.2f}%', ha='center', va='bottom')\n",
        "\n",
        "plt.show()"
      ],
      "metadata": {
        "id": "3q5wnI3om9sJ"
      },
      "execution_count": null,
      "outputs": []
    },
    {
      "cell_type": "markdown",
      "source": [
        "### What did you know about your dataset?"
      ],
      "metadata": {
        "id": "H0kj-8xxnORC"
      }
    },
    {
      "cell_type": "markdown",
      "source": [
        "The dataset used for this analysis comprises a comprehensive collection of hotel booking data, including information such as customer demographics, booking dates, hotel features, room types, duration of stay, booking cancellations etc. It covers a substantial time span, containing data from various hotels across different geographical locations and demographics.\n",
        "\n",
        "The dataset contains 119390 rows & 32 columns. There are several duplicated rows and some columns contains missing values, so we need to treat them individually."
      ],
      "metadata": {
        "id": "gfoNAAC-nUe_"
      }
    },
    {
      "cell_type": "markdown",
      "source": [
        "## ***2. Understanding Your Variables***"
      ],
      "metadata": {
        "id": "nA9Y7ga8ng1Z"
      }
    },
    {
      "cell_type": "code",
      "source": [
        "# Dataset Columns\n",
        "hotel_booking_df.columns"
      ],
      "metadata": {
        "id": "j7xfkqrt5Ag5"
      },
      "execution_count": null,
      "outputs": []
    },
    {
      "cell_type": "code",
      "source": [
        "# Dataset Describe\n",
        "hotel_booking_df.describe().T"
      ],
      "metadata": {
        "id": "DnOaZdaE5Q5t"
      },
      "execution_count": null,
      "outputs": []
    },
    {
      "cell_type": "markdown",
      "source": [
        "### Variables Description"
      ],
      "metadata": {
        "id": "PBTbrJXOngz2"
      }
    },
    {
      "cell_type": "markdown",
      "source": [
        "1.hotel: Name of hotel (City hotel or Resort hotel)\n",
        "\n",
        "2.is_canceled: If the booking was cancelled (1) or not (0)\n",
        "\n",
        "3.lead_time: The time taken between a customer makes a reservation and their actual arrival time\n",
        "\n",
        "4.arrival_date_year: Year of hotel arrival date\n",
        "\n",
        "5.arrival_date_month: Month of month hotel arrival date\n",
        "\n",
        "6.arrival_date_week_number: week hotel arrival date\n",
        "\n",
        "7.arrival_date_day_of_month: Day of hotel arrival date\n",
        "\n",
        "8.stays_in_weekend_nights: Number of weekend nights (Saturday & Sunday) the guest stayed or booked to stay at the hotel\n",
        "\n",
        "9.stays_in_week_nights: Number of weeknights (Mon to Fri) the guest stayed or booked to stay at the hotel\n",
        "\n",
        "10.adults: Number of adults among guests\n",
        "\n",
        "11.children: Number of children among guests\n",
        "\n",
        "12.babies: Number of babies among guests\n",
        "\n",
        "13.meal: Available options of meal for guests\n",
        "\n",
        "14.country: country code\n",
        "\n",
        "15.market_segment: A strategy that allows hotel owners to better understand that which segment customer belongs to\n",
        "\n",
        "16.distribution_channel: Name of booking distribution channel. The term 'TA' means 'Travel Agents'& 'TO' means 'Tour Operators.'\n",
        "\n",
        "17.is_repeated_guest: If the booking were repeated guest (1) or not (0)\n",
        "\n",
        "18.previous_cancellations: Number of Previous bookings that were cancelled by customer priorities the current booking\n",
        "\n",
        "19.previous_bookings_not_canceled: Number of Previous bookings that were not cancelled by the customer from current booking\n",
        "\n",
        "20.reserved_room_type: Code of reserved room type\n",
        "\n",
        "21.assigned_room_type: Code of assigned room type\n",
        "\n",
        "22.booking_changes: Number changes made in the booking\n",
        "\n",
        "23.deposit_type: Type of deposit made by guest\n",
        "\n",
        "24.agent: Number booking made by company agent (ID)\n",
        "\n",
        "25.company: The company that made the number of bookings by company (ID)\n",
        "\n",
        "26.days_in_waiting_list: The number of days booking was in the waiting list.\n",
        "\n",
        "27.customer_type: Type of customer, assuming one of four categories\n",
        "\n",
        "28.adr: Average daily rate\n",
        "\n",
        "29.required_car_parking_spaces: Number of car parking spaces required by the customer\n",
        "\n",
        "30.total_of_special_requests: Number of special requests made by the customer\n",
        "\n",
        "31.reservation_status: Status of reservation\n",
        "\n",
        "32.reservation_status_date: The date at which the last reservation status was updated\n"
      ],
      "metadata": {
        "id": "aJV4KIxSnxay"
      }
    },
    {
      "cell_type": "markdown",
      "source": [
        "### Check Unique Values for each variable."
      ],
      "metadata": {
        "id": "u3PMJOP6ngxN"
      }
    },
    {
      "cell_type": "code",
      "source": [
        "# Check Unique Values for each variable.\n",
        "for column in hotel_booking_df.columns:\n",
        "    print('\\033[1m {}:\\033[0m {}'.format(column, hotel_booking_df[column].unique()[:12]))"
      ],
      "metadata": {
        "id": "zms12Yq5n-jE"
      },
      "execution_count": null,
      "outputs": []
    },
    {
      "cell_type": "code",
      "source": [
        "# Check count of Unique Values for each variable.\n",
        "for column in hotel_booking_df.columns:\n",
        "    print('\\033[1m {}:\\033[0m {}'.format(column, hotel_booking_df[column].nunique()))"
      ],
      "metadata": {
        "id": "5KMi9yWoxyAI"
      },
      "execution_count": null,
      "outputs": []
    },
    {
      "cell_type": "markdown",
      "source": [
        "## 3. ***Data Wrangling***"
      ],
      "metadata": {
        "id": "dauF4eBmngu3"
      }
    },
    {
      "cell_type": "markdown",
      "source": [
        "### Data Wrangling Code"
      ],
      "metadata": {
        "id": "bKJF3rekwFvQ"
      }
    },
    {
      "cell_type": "code",
      "source": [
        "# Dropping the company column since it has more than 90 % empty columns\n",
        "hotel_booking_df = hotel_booking_df.drop(columns='company',axis=1)"
      ],
      "metadata": {
        "id": "wk-9a2fpoLcV"
      },
      "execution_count": null,
      "outputs": []
    },
    {
      "cell_type": "code",
      "source": [
        "# Filling the Missing value\n",
        "hotel_booking_df[['agent','children']]= hotel_booking_df[['agent','children']].fillna(0)\n",
        "hotel_booking_df[['country']] = hotel_booking_df [['country']].fillna('other')"
      ],
      "metadata": {
        "id": "ffjDxCCBYAh5"
      },
      "execution_count": null,
      "outputs": []
    },
    {
      "cell_type": "code",
      "source": [
        "# Checking if all the null values are removed or not\n",
        "hotel_booking_df.isnull().sum()"
      ],
      "metadata": {
        "id": "oLfTTkSlb9cc"
      },
      "execution_count": null,
      "outputs": []
    },
    {
      "cell_type": "code",
      "source": [
        "hotel_booking_df.shape"
      ],
      "metadata": {
        "id": "u9vtt1u4ZPkg"
      },
      "execution_count": null,
      "outputs": []
    },
    {
      "cell_type": "code",
      "source": [
        "# Checking rows having duplicate values\n",
        "hotel_booking_df.duplicated().sum()"
      ],
      "metadata": {
        "id": "Wysnr1DIXCiM"
      },
      "execution_count": null,
      "outputs": []
    },
    {
      "cell_type": "code",
      "source": [
        "# Dropping duplicated rows\n",
        "hotel_booking_df= hotel_booking_df.drop_duplicates(keep='first')"
      ],
      "metadata": {
        "id": "2mZj2j1hd_aA"
      },
      "execution_count": null,
      "outputs": []
    },
    {
      "cell_type": "code",
      "source": [
        "# Mapping the 'arrival_date_month' columns with its numerical equivalent\n",
        "month_map = {\n",
        "    'January': 1, 'February': 2, 'March': 3, 'April': 4, 'May': 5, 'June': 6,\n",
        "    'July': 7, 'August': 8, 'September': 9, 'October': 10, 'November': 11, 'December': 12\n",
        "}\n",
        "\n",
        "hotel_booking_df['arrival_date_month'] = hotel_booking_df['arrival_date_month'].map(month_map)\n"
      ],
      "metadata": {
        "id": "vAg6W_KBh86t"
      },
      "execution_count": null,
      "outputs": []
    },
    {
      "cell_type": "code",
      "source": [
        "# Creating a custom function to merge the three columns of date,month & year into single columns\n",
        "def merge_columns(row):\n",
        "    return '-'.join([str(row['arrival_date_year']), str(row['arrival_date_month']), str(row['arrival_date_day_of_month'])])\n",
        "\n",
        "# Apply the custom function to merge the columns\n",
        "hotel_booking_df['arrival_date'] = hotel_booking_df.apply(merge_columns, axis=1)\n",
        "\n",
        "# Now drop the separate columns which is not further required\n",
        "hotel_booking_df.drop(columns=['arrival_date_day_of_month'], inplace=True)"
      ],
      "metadata": {
        "id": "efe70BWInA2n"
      },
      "execution_count": null,
      "outputs": []
    },
    {
      "cell_type": "code",
      "source": [
        "# Changing datatype of 'reservation_status_date' & arrival_date from object to datetime\n",
        "hotel_booking_df['reservation_status_date'] = pd.to_datetime(hotel_booking_df['reservation_status_date'],format = '%Y-%m-%d')\n",
        "\n",
        "# Changing datatype of 'arrival_date' from object to datetime\n",
        "hotel_booking_df['arrival_date'] = pd.to_datetime(hotel_booking_df['arrival_date'],format = '%Y-%m-%d')\n",
        "\n",
        "# Convert 'children' column to int data type\n",
        "hotel_booking_df['children'] = hotel_booking_df['children'].astype(int)"
      ],
      "metadata": {
        "id": "x8FOC-BUSBfL"
      },
      "execution_count": null,
      "outputs": []
    },
    {
      "cell_type": "code",
      "source": [
        "# Creating a new columns 'total_stays' by merging columns containg 'stays_in_weekend_nights' & 'stays_in_week_nights'\n",
        "hotel_booking_df['total_stay'] = hotel_booking_df['stays_in_weekend_nights']+hotel_booking_df['stays_in_week_nights']\n",
        "\n",
        "\n",
        "# Adding [total people num as column, i.e total type of person =no. of adults + No. of children + No. of babies\n",
        "hotel_booking_df['total_guests'] = hotel_booking_df['adults'] + hotel_booking_df['children']+hotel_booking_df['babies']\n",
        "\n",
        "# Now dropping the individual columns\n",
        "hotel_booking_df.drop(columns=['stays_in_weekend_nights', 'stays_in_week_nights','adults','children','babies'], inplace=True)"
      ],
      "metadata": {
        "id": "pZEHOdK_RRL8"
      },
      "execution_count": null,
      "outputs": []
    },
    {
      "cell_type": "code",
      "source": [
        "hotel_booking_df.info()"
      ],
      "metadata": {
        "id": "lxACPI6Xq7VQ"
      },
      "execution_count": null,
      "outputs": []
    },
    {
      "cell_type": "code",
      "source": [
        "hotel_booking_df.columns"
      ],
      "metadata": {
        "id": "THWAaWXFYkjr"
      },
      "execution_count": null,
      "outputs": []
    },
    {
      "cell_type": "markdown",
      "source": [
        "### What all manipulations have you done and insights you found?"
      ],
      "metadata": {
        "id": "MSa1f5Uengrz"
      }
    },
    {
      "cell_type": "markdown",
      "source": [
        "\n",
        "\n",
        "1. Since company columns contain more than 50% of the missing data, it is not feasible to keep the said columns. So we removed this column.\n",
        "2. After that, we noticed that there were some missing values in the children, country, and agent columns.\n",
        "\n",
        ">>> * For the children and agent columns, we filled in the missing value with 0.\n",
        "\n",
        "\n",
        "\n",
        "\n",
        "\n",
        "\n",
        ">>> * For the country column, we filled in the missing value with 'Other'.\n",
        "\n",
        "\n",
        "\n",
        "\n",
        "3. After removing the missing value, we checked for any duplication of rows and found that there were 32001 duplicate rows. So we drop all these rows, keeping only the first rows.\n",
        "4. After treating the duplicated rows, we have done some feature enginnering to modify our dataset.\n",
        "\n",
        ">>> * Three columns containing arrival date, arrival month,and arrival year are combined so that they become a single arrival date column. But before that, we converted the month columns into their equivalent numeric columns.\n",
        ">>> * Similarly, weekend night stay & week night stay column are combined to make total stay column.\n",
        ">>> *  Columns containing adults, children, and babies are combined to make the total number of guest columns.\n",
        "\n",
        "5. Now we have corrected the datatype of a few columns.\n",
        "\n",
        ">>> * reservation_status_date column from object to datetime datatype.\n",
        ">>> * arrival date column from object to datetime datatype.\n",
        ">>> * children column from float to int datatype.\n",
        "\n",
        "\n",
        "\n",
        "\n",
        "\n",
        "\n",
        "\n"
      ],
      "metadata": {
        "id": "LbyXE7I1olp8"
      }
    },
    {
      "cell_type": "markdown",
      "source": [
        "## ***4. Data Vizualization, Storytelling & Experimenting with charts : Understand the relationships between variables***"
      ],
      "metadata": {
        "id": "GF8Ens_Soomf"
      }
    },
    {
      "cell_type": "markdown",
      "source": [
        "#### Chart - 1:- Comparison between City Hotel & Resort Hotel"
      ],
      "metadata": {
        "id": "0wOQAZs5pc--"
      }
    },
    {
      "cell_type": "code",
      "source": [
        "# Get the counts of each hotel type\n",
        "hotel_counts = hotel_booking_df['hotel'].value_counts()\n",
        "\n",
        "# Plot the pie chart\n",
        "plt.figure(figsize=(15, 8))\n",
        "plt.pie(hotel_counts, labels=hotel_counts.index, autopct='%1.2f%%', startangle=45, explode=(0, 0.05), colors=['skyblue', 'lightgreen'],textprops={'fontsize': 13},shadow=True)\n",
        "plt.title('Hotel Type Distribution')\n",
        "plt.axis('equal')  # Equal aspect ratio ensures the pie chart is circular.\n",
        "plt.legend(title='Hotel Type', loc='upper right', labels=['City Hotel', 'Resort Hotel'])\n",
        "plt.axis('equal')\n",
        "plt.show()"
      ],
      "metadata": {
        "id": "7v_ESjsspbW7"
      },
      "execution_count": null,
      "outputs": []
    },
    {
      "cell_type": "markdown",
      "source": [
        "**1. Why did you pick the specific chart?**"
      ],
      "metadata": {
        "id": "K5QZ13OEpz2H"
      }
    },
    {
      "cell_type": "markdown",
      "source": [
        "Pie charts are effective for comparing the parts (individual categories) to the whole (total count of hotels). Each slice of the pie represents a proportion of the whole, allowing us to visualize the relative frequencies of 'City Hotel' and 'Resort Hotel.'"
      ],
      "metadata": {
        "id": "XESiWehPqBRc"
      }
    },
    {
      "cell_type": "markdown",
      "source": [
        "**2. What is/are the insight(s) found from the chart?**"
      ],
      "metadata": {
        "id": "lQ7QKXXCp7Bj"
      }
    },
    {
      "cell_type": "markdown",
      "source": [
        "The pie chart shows that 'City Hotel' has 61.1% of the total bookings while\n",
        "'Resort Hotel' accounts for 38.9% of the total bookings.\n",
        "The chart reveals that 'City Hotel' bookings are more prefered, comprising a higher percentage of the total bookings compared to 'Resort Hotel' bookings."
      ],
      "metadata": {
        "id": "C_j1G7yiqdRP"
      }
    },
    {
      "cell_type": "markdown",
      "source": [
        "**3. Will the gained insights help creating a positive business impact?**\n",
        "***Are there any insights that lead to negative growth? Justify with specific reason.***"
      ],
      "metadata": {
        "id": "448CDAPjqfQr"
      }
    },
    {
      "cell_type": "markdown",
      "source": [
        ">**Positive Business Impact:**\n",
        "\n",
        "* Insights from the chart can influence business decisions, such as resource allocation, marketing efforts, or expansion plans based on the popularity of each hotel type.\n",
        "\n",
        ">**Negative Business Impact:**\n",
        "\n",
        "* Reasons that may lead to Negative Growth in Resort Hotel bookings could be changes in customer preferences and travel behaviours that impact the demand for City Hotel types.\n"
      ],
      "metadata": {
        "id": "3cspy4FjqxJW"
      }
    },
    {
      "cell_type": "markdown",
      "source": [
        "#### Chart - 2: Room Type Preference"
      ],
      "metadata": {
        "id": "KSlN3yHqYklG"
      }
    },
    {
      "cell_type": "code",
      "source": [
        "# Group data by 'room_type' and calculate the total number of bookings for each room type\n",
        "room_type_counts = hotel_booking_df['assigned_room_type'].value_counts()\n",
        "\n",
        "# Plot the bar chart\n",
        "plt.figure(figsize=(14, 8))\n",
        "\n",
        "colors = ['skyblue', 'lightgreen','black', 'red', 'lightcoral', 'gold']\n",
        "bars=plt.bar(room_type_counts.index, room_type_counts.values,color=colors)\n",
        "plt.xlabel('Room Type',fontsize=12)\n",
        "plt.ylabel('Number of Bookings',fontsize=15)\n",
        "plt.title('Booking Preference by Room Types',fontsize=12)\n",
        "plt.xticks(rotation=0, ha='right',fontsize=12)\n",
        "plt.tick_params(axis='y', labelsize=10)\n",
        "\n",
        "# Add the value on top of each bar\n",
        "for bar in bars:\n",
        "    height = bar.get_height()\n",
        "    plt.annotate(f'{height}', xy=(bar.get_x() + bar.get_width() / 2, height), xytext=(0, 3),\n",
        "                 textcoords=\"offset points\", ha='center', va='bottom', fontsize=10, color='black')\n",
        "plt.show()"
      ],
      "metadata": {
        "id": "R4YgtaqtYklH"
      },
      "execution_count": null,
      "outputs": []
    },
    {
      "cell_type": "markdown",
      "source": [
        "**1. Why did you pick the specific chart?**"
      ],
      "metadata": {
        "id": "t6dVpIINYklI"
      }
    },
    {
      "cell_type": "markdown",
      "source": [
        "Bar charts work well when there are a limited number of distinct categories. In this case, each room type is a separate category, making it easy to compare the number of bookings for each room type."
      ],
      "metadata": {
        "id": "5aaW0BYyYklI"
      }
    },
    {
      "cell_type": "markdown",
      "source": [
        "**2. What is/are the insight(s) found from the chart?**"
      ],
      "metadata": {
        "id": "ijmpgYnKYklI"
      }
    },
    {
      "cell_type": "markdown",
      "source": [
        "The barplot reveals the room type with the highest number of bookings, indicating the most preferred or popular room type among the customers. Type 'A' room is most preferred among the guests, while Type 'L' room is least preferred."
      ],
      "metadata": {
        "id": "PSx9atu2YklI"
      }
    },
    {
      "cell_type": "markdown",
      "source": [
        "**3. Will the gained insights help creating a positive business impact?**\n",
        "**Are there any insights that lead to negative growth? Justify with specific reason.**"
      ],
      "metadata": {
        "id": "-JiQyfWJYklI"
      }
    },
    {
      "cell_type": "markdown",
      "source": [
        ">**Positive Business Impact:**\n",
        "\n",
        "* The plot can help determine the demand for each room type, allowing hotel management to allocate resources and pricing strategies accordingly.\n",
        "\n",
        "\n",
        ">**Negative Business Impact:**\n",
        "\n",
        "* If there are significant pricing differences between different room types within the same hotel, customers might opt for more affordable options, leading to negative growth in bookings for higher-priced rooms."
      ],
      "metadata": {
        "id": "BcBbebzrYklV"
      }
    },
    {
      "cell_type": "markdown",
      "source": [
        "#### Chart-3 :- Booking made by type of customer"
      ],
      "metadata": {
        "id": "EM7whBJCYoAo"
      }
    },
    {
      "cell_type": "code",
      "source": [
        "# Calculate the counts for each customer type and hotel combination\n",
        "counts_df = hotel_booking_df.groupby(['customer_type', 'hotel']).size().reset_index(name='count')\n",
        "\n",
        "# Pivot the data to create a table-like structure\n",
        "pivot_table = counts_df.pivot(index='customer_type', columns='hotel', values='count').fillna(0)\n",
        "\n",
        "# Calculate the total counts for each customer type\n",
        "pivot_table['Total'] = pivot_table.sum(axis=1)\n",
        "\n",
        "# Plot the donut chart\n",
        "fig, ax = plt.subplots(figsize=(15, 8))\n",
        "ax.axis('equal')\n",
        "\n",
        "# Inner circle (donut hole)\n",
        "ax.pie(pivot_table['Total'], labels=pivot_table.index, autopct='%1.2f%%', startangle=180, wedgeprops=dict(width=0.3, edgecolor='w'))\n",
        "ax.legend()\n",
        "\n",
        "\n",
        "# Set aspect ratio to be equal to ensure the donut chart is circular\n",
        "ax.set_aspect('equal')\n",
        "\n",
        "# Add a title\n",
        "plt.title('Bookings by Customer Type')\n",
        "plt.show()\n"
      ],
      "metadata": {
        "id": "3m13fU-ulMWH"
      },
      "execution_count": null,
      "outputs": []
    },
    {
      "cell_type": "markdown",
      "source": [
        "**1. Why did you pick the specific chart?**"
      ],
      "metadata": {
        "id": "fge-S5ZAYoAp"
      }
    },
    {
      "cell_type": "markdown",
      "source": [
        "Donut charts can be more visually pleasing than pie charts in some cases, especially when dealing with a small number of categories. The hole in the center of the donut chart removes the need for data labels inside the slices, reducing clutter and improving readability."
      ],
      "metadata": {
        "id": "5dBItgRVYoAp"
      }
    },
    {
      "cell_type": "markdown",
      "source": [
        "**2. What is/are the insight(s) found from the chart?**"
      ],
      "metadata": {
        "id": "85gYPyotYoAp"
      }
    },
    {
      "cell_type": "markdown",
      "source": [
        "The segment with the largest area in the donut chart represents the dominant customer type, indicating which type of customer accounts for the majority of bookings. This insight helps identify the primary target audience for the hotel."
      ],
      "metadata": {
        "id": "4jstXR6OYoAp"
      }
    },
    {
      "cell_type": "markdown",
      "source": [
        "**3. Will the gained insights help creating a positive business impact?**\n",
        "***Are there any insights that lead to negative growth? Justify with specific reason.***"
      ],
      "metadata": {
        "id": "RoGjAbkUYoAp"
      }
    },
    {
      "cell_type": "markdown",
      "source": [
        ">**Positive Business Impact:**\n",
        "\n",
        "* A higher proportion of \"Transient\" customers might indicate a hotel's popularity for short stays or tourism, while more \"Contract\" customers could indicate strong business relationships or corporate clients.\n",
        "\n",
        "\n",
        ">**Negative Business Impact:**\n",
        "\n",
        "* Negative growth occur if the hotel fails to adapt to changing customer preferences or if customer expectations are not met. For example, if the hotel caters primarily to \"Transient\" customers, but there's a shift in demand towards \"Transient-Party\" customers seeking a different experience, the hotel might experience negative growth."
      ],
      "metadata": {
        "id": "zfJ8IqMcYoAp"
      }
    },
    {
      "cell_type": "markdown",
      "source": [
        "#### Chart - 4:- Month-wise Booking"
      ],
      "metadata": {
        "id": "bamQiAODYuh1"
      }
    },
    {
      "cell_type": "code",
      "source": [
        "# Calculate the hotel counts per month in word representation\n",
        "hotel_counts_by_month = hotel_booking_df.groupby('arrival_date_month')['hotel'].count()\n",
        "plt.figure(figsize = (11,8))\n",
        "plt.plot(hotel_counts_by_month.index, hotel_counts_by_month.values, marker='o')\n",
        "plt.xlabel('Month',fontsize=15)\n",
        "plt.ylabel('Number of Bookings',fontsize=15)\n",
        "plt.title('Monthly Bookings Trend',fontsize=15)\n",
        "plt.xticks(rotation=0)\n",
        "plt.show()\n"
      ],
      "metadata": {
        "id": "HcJmy9vXoFLE"
      },
      "execution_count": null,
      "outputs": []
    },
    {
      "cell_type": "markdown",
      "source": [
        "**1. Why did you pick the specific chart?**"
      ],
      "metadata": {
        "id": "QHF8YVU7Yuh3"
      }
    },
    {
      "cell_type": "markdown",
      "source": [
        "The time-series chart shows monthly booking trends in different hotels.It allows viewers to quickly compare the relative popularity of different months in a visually intuitive way."
      ],
      "metadata": {
        "id": "dcxuIMRPYuh3"
      }
    },
    {
      "cell_type": "markdown",
      "source": [
        "**2. What is/are the insight(s) found from the chart?**"
      ],
      "metadata": {
        "id": "GwzvFGzlYuh3"
      }
    },
    {
      "cell_type": "markdown",
      "source": [
        "The time-series chart reveal if there are any clear seasonal patterns in hotel bookings. For example, certain months shows higher booking percentages, indicating peak tourist seasons or preferred travel times."
      ],
      "metadata": {
        "id": "uyqkiB8YYuh3"
      }
    },
    {
      "cell_type": "markdown",
      "source": [
        "**3. Will the gained insights help creating a positive business impact?**\n",
        "***Are there any insights that lead to negative growth? Justify with specific reason.***"
      ],
      "metadata": {
        "id": "qYpmQ266Yuh3"
      }
    },
    {
      "cell_type": "markdown",
      "source": [
        ">**Positive Business Impact:**\n",
        "\n",
        "* Understanding seasonal patterns and popular months can help the hotel allocate resources more efficiently. During peak months, the hotel can plan for increased staffing, higher inventory, and better customer service to meet the higher demand, resulting in improved customer satisfaction and positive word-of-mouth.\n",
        "\n",
        ">**Insights Leading to Negative Growth:**\n",
        "\n",
        "* If the hotel only focuses on peak months and neglects off-peak periods, it may lead to missed revenue opportunities. Ignoring marketing efforts during slower months might result in decreased bookings and lower revenue during those times.\n",
        "\n",
        "* If the hotel does not plan for increased staffing during peak months, it may lead to overworked and stressed employees, which can negatively impact service quality and guest satisfaction."
      ],
      "metadata": {
        "id": "_WtzZ_hCYuh4"
      }
    },
    {
      "cell_type": "markdown",
      "source": [
        "#### Chart - 5:- Average Daily Rate(ADR) across different distribution channel"
      ],
      "metadata": {
        "id": "4Of9eVA-YrdM"
      }
    },
    {
      "cell_type": "code",
      "source": [
        "# Group by distribution_channel and hotel and calculate the average ADR\n",
        "distribution_channel_df = hotel_booking_df.groupby(['distribution_channel', 'hotel'])['adr'].mean().reset_index()\n",
        "\n",
        "# Set plot size and plot bar chart\n",
        "plt.figure(figsize = (11,8))\n",
        "sns.barplot(data= distribution_channel_df,x ='distribution_channel', y= 'adr', hue = 'hotel',palette='Accent')\n",
        "plt.title('ADR Across Distribution Channel',fontsize=15)\n",
        "plt.xlabel('Distribution Channel',fontsize=15)\n",
        "plt.ylabel('Average Daily Rate (ADR)',fontsize=15)\n",
        "fig.show()\n"
      ],
      "metadata": {
        "id": "irlUoxc8YrdO"
      },
      "execution_count": null,
      "outputs": []
    },
    {
      "cell_type": "markdown",
      "source": [
        "**1. Why did you pick the specific chart?**"
      ],
      "metadata": {
        "id": "iky9q4vBYrdO"
      }
    },
    {
      "cell_type": "markdown",
      "source": [
        "The 'distribution_channel' and 'hotel' columns are categorical variables. Bar charts are commonly used to display and compare categorical data, making it easy to see the differences in ADR for different distribution channels and hotels."
      ],
      "metadata": {
        "id": "aJRCwT6DYrdO"
      }
    },
    {
      "cell_type": "markdown",
      "source": [
        "**2. What is/are the insight(s) found from the chart?**"
      ],
      "metadata": {
        "id": "F6T5p64dYrdO"
      }
    },
    {
      "cell_type": "markdown",
      "source": [
        "The chart indicates which distribution channels are more commonly used for bookings at each hotel. Some hotels may receive more bookings through online travel agencies (TA) or offline travel agents (TO), while others may get more direct bookings."
      ],
      "metadata": {
        "id": "Xx8WAJvtYrdO"
      }
    },
    {
      "cell_type": "markdown",
      "source": [
        "**3. Will the gained insights help creating a positive business impact?**\n",
        "***Are there any insights that lead to negative growth? Justify with specific reason.***"
      ],
      "metadata": {
        "id": "y-Ehk30pYrdP"
      }
    },
    {
      "cell_type": "markdown",
      "source": [
        ">**Positive Business Impact**:-\n",
        "\n",
        "*   Understanding ADR variation across distribution channels and hotels can help optimize the pricing strategy. By identifying the most profitable distribution channels and high-demand periods, the hotel can adjust its pricing to maximize revenue while still attracting customers.\n",
        "*    If certain distribution channels are underperforming in terms of ADR, the hotel can focus on improving its presence and marketing efforts on those channels. It may negotiate better contracts with online travel agencies (TAs) or invest in targeted advertising for offline travel agents (TOs).\n",
        "\n",
        ">**Negative Insight**:-\n",
        "\n",
        "\n",
        "*   We see that Resort Hotel relies heavily on Direct as well as TA/TO distribution channel which  could be risky. Overdependence on a few channels can be problematic if that channel's performance declines or if the hotel faces difficulties with that channel.\n"
      ],
      "metadata": {
        "id": "jLNxxz7MYrdP"
      }
    },
    {
      "cell_type": "markdown",
      "source": [
        "Chart - 6:- Hotel Type vs Cancellation Status"
      ],
      "metadata": {
        "id": "OH-pJp9IphqM"
      }
    },
    {
      "cell_type": "code",
      "source": [
        "plt.figure(figsize =(12,6))\n",
        "ax1 = sns.countplot(data = hotel_booking_df,x = 'hotel', hue = 'is_canceled',palette='Dark2')\n",
        "\n",
        "# Add value annotations to each bar\n",
        "for p in ax1.patches:\n",
        "    height = p.get_height()\n",
        "    width = p.get_width()\n",
        "    x, y = p.get_xy()\n",
        "    ax1.annotate(f'{int(height)}', (x + width / 2, height), ha='center', va='bottom', fontsize=10)\n",
        "\n",
        "plt.title ('Hotel Type vs. Cancellation Status',fontsize=15)\n",
        "plt.xlabel('Hotel',fontsize=15)\n",
        "plt.ylabel('Number of Reservation',fontsize=15)\n",
        "\n",
        "\n",
        "plt.show()"
      ],
      "metadata": {
        "id": "kuRf4wtuphqN"
      },
      "execution_count": null,
      "outputs": []
    },
    {
      "cell_type": "markdown",
      "source": [
        "**1. Why did you pick the specific chart?**"
      ],
      "metadata": {
        "id": "bbFf2-_FphqN"
      }
    },
    {
      "cell_type": "markdown",
      "source": [
        "The countplot allows for easy comparison of the count of canceled and non-canceled bookings for each hotel type. It enables quick identification of differences in cancellation patterns between the two hotel types."
      ],
      "metadata": {
        "id": "loh7H2nzphqN"
      }
    },
    {
      "cell_type": "markdown",
      "source": [
        "**2. What is/are the insight(s) found from the chart?**"
      ],
      "metadata": {
        "id": "_ouA3fa0phqN"
      }
    },
    {
      "cell_type": "markdown",
      "source": [
        "By dividing the count of canceled bookings by the total count of bookings for each hotel type, we can determine the cancellation ratio for each type. This ratio represents the proportion of bookings that get canceled for each hotel type, providing insights into the cancellation behavior of guests."
      ],
      "metadata": {
        "id": "VECbqPI7phqN"
      }
    },
    {
      "cell_type": "markdown",
      "source": [
        "**3. Will the gained insights help creating a positive business impact?**\n",
        "***Are there any insights that lead to negative growth? Justify with specific reason.***"
      ],
      "metadata": {
        "id": "Seke61FWphqN"
      }
    },
    {
      "cell_type": "markdown",
      "source": [
        ">**Positive Business Impact:**\n",
        "\n",
        "* Understanding the cancellation patterns for each hotel type can help hotel management implement targeted strategies to reduce cancellations. For example, if one hotel type has a higher cancellation rate, the management can analyze the reasons behind it and take steps to improve booking policies, increase guest engagement, and enhance customer service to reduce cancellations.\n",
        "\n",
        ">**Insights Leading to Negative Growth:**\n",
        "\n",
        "* High cancellation rates for a specific hotel type might indicate dissatisfaction among guests. Ignoring this insight could lead to negative reviews, decreased customer loyalty, and potential loss of repeat business."
      ],
      "metadata": {
        "id": "DW4_bGpfphqN"
      }
    },
    {
      "cell_type": "markdown",
      "source": [
        "#### Chart - 7: Hotel Type Vs Lead Time"
      ],
      "metadata": {
        "id": "PIIx-8_IphqN"
      }
    },
    {
      "cell_type": "code",
      "source": [
        "plt.figure(figsize=(10, 6))\n",
        "sns.boxplot(data=hotel_booking_df, x='hotel', y='lead_time')\n",
        "plt.title('Hotel Type vs. Lead Time',fontsize=15)\n",
        "plt.xlabel('Hotel',fontsize=15)\n",
        "plt.ylabel('Lead Time',fontsize=15)\n",
        "plt.show()"
      ],
      "metadata": {
        "id": "lqAIGUfyphqO"
      },
      "execution_count": null,
      "outputs": []
    },
    {
      "cell_type": "markdown",
      "source": [
        "**Why did you pick the specific chart?**"
      ],
      "metadata": {
        "id": "t27r6nlMphqO"
      }
    },
    {
      "cell_type": "markdown",
      "source": [
        "The box plot is ideal for comparing the distributions of a continuous variable (lead time in this case) between different groups (hotel types). It provides a clear visualization of the central tendency (median), spread (interquartile range), and presence of outliers for each group."
      ],
      "metadata": {
        "id": "iv6ro40sphqO"
      }
    },
    {
      "cell_type": "markdown",
      "source": [
        "**2. What is/are the insight(s) found from the chart?**"
      ],
      "metadata": {
        "id": "r2jJGEOYphqO"
      }
    },
    {
      "cell_type": "markdown",
      "source": [
        "The lead time insights can help understand customer booking behavior. For instance, longer lead times may indicate that guests plan well in advance for 'Resort' hotels, while 'City' hotels might have more last-minute bookings."
      ],
      "metadata": {
        "id": "Po6ZPi4hphqO"
      }
    },
    {
      "cell_type": "markdown",
      "source": [
        "**3. Will the gained insights help creating a positive business impact?**\n",
        "***Are there any insights that lead to negative growth? Justify with specific reason.***"
      ],
      "metadata": {
        "id": "b0JNsNcRphqO"
      }
    },
    {
      "cell_type": "markdown",
      "source": [
        ">**Positive Business Impact:**\n",
        "Understanding lead time patterns can help hotels optimize their revenue management strategies. For example, if 'Resort' hotels tend to have longer lead times, they can offer early bird promotions or discounts to encourage guests to book well in advance, maximizing revenue during peak seasons.\n",
        "\n",
        ">**Negative Growth Impact:**\n",
        "\n",
        "* If 'City' hotels heavily rely on last-minute bookings, it could lead to challenges in managing room availability, especially during peak periods, and could affect customer satisfaction."
      ],
      "metadata": {
        "id": "xvSq8iUTphqO"
      }
    },
    {
      "cell_type": "markdown",
      "source": [
        "#### Chart - 8:- Monthly Average ADR"
      ],
      "metadata": {
        "id": "BZR9WyysphqO"
      }
    },
    {
      "cell_type": "code",
      "source": [
        "plt.figure(figsize=(12, 6))\n",
        "hotel_booking_df['arrival_date'] = pd.to_datetime(hotel_booking_df['arrival_date'])\n",
        "monthly_adr = hotel_booking_df.groupby('arrival_date_month')['adr'].mean()\n",
        "plt.plot(monthly_adr.index, monthly_adr.values, marker='o')\n",
        "plt.title('Monthly Average ADR',fontsize=15)\n",
        "plt.xlabel('Month',fontsize=15)\n",
        "plt.ylabel('Average Daily Rate (ADR)',fontsize=15)\n",
        "plt.show()"
      ],
      "metadata": {
        "id": "TdPTWpAVphqO"
      },
      "execution_count": null,
      "outputs": []
    },
    {
      "cell_type": "markdown",
      "source": [
        "**1. Why did you pick the specific chart?**"
      ],
      "metadata": {
        "id": "jj7wYXLtphqO"
      }
    },
    {
      "cell_type": "markdown",
      "source": [
        "The line plot helps us identify overall trends in ADR over time, such as increasing, decreasing, or fluctuating patterns. This can be a valuable information for understanding the demand patterns and pricing strategies."
      ],
      "metadata": {
        "id": "Ob8u6rCTphqO"
      }
    },
    {
      "cell_type": "markdown",
      "source": [
        "**2. What is/are the insight(s) found from the chart?**"
      ],
      "metadata": {
        "id": "eZrbJ2SmphqO"
      }
    },
    {
      "cell_type": "markdown",
      "source": [
        "Fluctuations in ADR over time can provide insights into variations in demand. Higher ADR during certain months could suggest increased demand and pricing power, while lower ADR might indicate lower demand or promotional pricing strategies."
      ],
      "metadata": {
        "id": "mZtgC_hjphqO"
      }
    },
    {
      "cell_type": "markdown",
      "source": [
        "**3. Will the gained insights help creating a positive business impact?**\n",
        "***Are there any insights that lead to negative growth? Justify with specific reason.***"
      ],
      "metadata": {
        "id": "rFu4xreNphqO"
      }
    },
    {
      "cell_type": "markdown",
      "source": [
        ">**Positive Business Impact:**\n",
        "\n",
        "* Knowledge of demand fluctuations helps in better resource allocation. During periods of higher demand and ADR, hotels can ensure adequate staffing, manage inventory effectively, and provide enhanced services to meet guest expectations.\n",
        "\n",
        ">**Negative Growth Impact:**\n",
        "\n",
        "* Relying heavily on a few high ADR months may cause financial instability during low-demand periods, leading to negative growth."
      ],
      "metadata": {
        "id": "ey_0qi68phqO"
      }
    },
    {
      "cell_type": "markdown",
      "source": [
        "#### Chart - 9:- Hotel Type Vs Market Segment"
      ],
      "metadata": {
        "id": "YJ55k-q6phqO"
      }
    },
    {
      "cell_type": "code",
      "source": [
        "plt.figure(figsize=(12, 6))\n",
        "sns.countplot(data=hotel_booking_df, x='hotel', hue='market_segment', palette='muted')\n",
        "plt.title('Hotel Type vs. Market Segment',fontsize=15)\n",
        "plt.xlabel('Hotel',fontsize=15)\n",
        "plt.ylabel('Number of Bookings',fontsize=15)\n",
        "plt.legend(title='Market Segment', loc='upper right')\n",
        "plt.show()"
      ],
      "metadata": {
        "id": "B2aS4O1ophqO"
      },
      "execution_count": null,
      "outputs": []
    },
    {
      "cell_type": "markdown",
      "source": [
        "##### **1. Why did you pick the specific chart?**"
      ],
      "metadata": {
        "id": "gCFgpxoyphqP"
      }
    },
    {
      "cell_type": "markdown",
      "source": [
        "The countplot is an appropriate choice when comparing the counts of different categories within a single variable (in this case, 'market_segment') for multiple categories of another variable (in this case, 'hotel'). It efficiently displays the count of occurrences for each combination of 'hotel' and 'market_segment'."
      ],
      "metadata": {
        "id": "TVxDimi2phqP"
      }
    },
    {
      "cell_type": "markdown",
      "source": [
        "##### **2. What is/are the insight(s) found from the chart?**"
      ],
      "metadata": {
        "id": "OVtJsKN_phqQ"
      }
    },
    {
      "cell_type": "markdown",
      "source": [
        "The tallest bars in each 'hotel' category represent the most popular market segments for each type of hotel."
      ],
      "metadata": {
        "id": "ngGi97qjphqQ"
      }
    },
    {
      "cell_type": "markdown",
      "source": [
        "**3. Will the gained insights help creating a positive business impact? Are there any insights that lead to negative growth? Justify with specific reason.**"
      ],
      "metadata": {
        "id": "lssrdh5qphqQ"
      }
    },
    {
      "cell_type": "markdown",
      "source": [
        ">**Positive Business Impact:**\n",
        "\n",
        "* By focusing on the top-performing market segments, hotels can optimize their revenue management strategies and pricing decisions, increasing overall revenue generation.\n",
        "\n",
        "* Identifying areas where a hotel has a strong presence in certain market segments can be leveraged to create a competitive advantage. By emphasizing unique offerings and services that appeal to those segments, hotels can stand out from their competitors.\n",
        "\n",
        ">**Negative Growth Impact:**\n",
        "\n",
        "* If a hotel targets the same market segments as its competitors without differentiation, it may lead to stiff competition and price wars, potentially affecting profitability.\n",
        "\n",
        "* Overlooking smaller, niche market segments with specific preferences and needs might result in missed opportunities to attract high-value guests."
      ],
      "metadata": {
        "id": "tBpY5ekJphqQ"
      }
    },
    {
      "cell_type": "markdown",
      "source": [
        "#### Chart - 10:- Customer Type vs Lead Time"
      ],
      "metadata": {
        "id": "U2RJ9gkRphqQ"
      }
    },
    {
      "cell_type": "code",
      "source": [
        "plt.figure(figsize=(12, 6))\n",
        "sns.boxplot(data=hotel_booking_df, x='customer_type', y='lead_time', palette='viridis')\n",
        "plt.title('Customer Type vs Lead Time',fontsize=15)\n",
        "plt.xlabel('Customer Type',fontsize=15)\n",
        "plt.ylabel('Lead Time',fontsize=15)\n",
        "plt.show()"
      ],
      "metadata": {
        "id": "GM7a4YP4phqQ"
      },
      "execution_count": null,
      "outputs": []
    },
    {
      "cell_type": "markdown",
      "source": [
        "##### **1. Why did you pick the specific chart?**"
      ],
      "metadata": {
        "id": "1M8mcRywphqQ"
      }
    },
    {
      "cell_type": "markdown",
      "source": [
        "The boxplot provides a concise summary of the distribution of lead time for each customer type.When dealing with multiple categories (customer types) and a continuous variable (lead time), the boxplot is a straightforward and informative way to display the data."
      ],
      "metadata": {
        "id": "8agQvks0phqQ"
      }
    },
    {
      "cell_type": "markdown",
      "source": [
        "##### **2. What is/are the insight(s) found from the chart?**"
      ],
      "metadata": {
        "id": "tgIPom80phqQ"
      }
    },
    {
      "cell_type": "markdown",
      "source": [
        "The plot provides insights into the booking behaviors of different customer types. It indicates whether certain segments tend to plan and book well in advance or make last-minute reservations."
      ],
      "metadata": {
        "id": "Qp13pnNzphqQ"
      }
    },
    {
      "cell_type": "markdown",
      "source": [
        "**3. Will the gained insights help creating a positive business impact?**\n",
        "***Are there any insights that lead to negative growth? Justify with specific reason.***"
      ],
      "metadata": {
        "id": "JMzcOPDDphqR"
      }
    },
    {
      "cell_type": "markdown",
      "source": [
        "* **Positive Business Impact:**\n",
        "\n",
        "* By analyzing lead time patterns, hotels can implement dynamic pricing strategies based on demand fluctuations. Offering special rates and incentives during periods of lower lead time can attract last-minute bookers and fill otherwise empty rooms.\n",
        "\n",
        "* **Negative Growth Impact:**\n",
        "\n",
        "* Incorrectly allocating resources based on inaccurate lead time predictions could result in overstaffing or overbooking during periods of low demand and underutilization of resources during peak demand.\n",
        "\n",
        "* Not offering real-time promotions or last-minute deals to attract last-minute bookers may result in lost revenue for unoccupied rooms."
      ],
      "metadata": {
        "id": "R4Ka1PC2phqR"
      }
    },
    {
      "cell_type": "markdown",
      "source": [
        "#### Chart - 11:- Total Guest by Country"
      ],
      "metadata": {
        "id": "x-EpHcCOp1ci"
      }
    },
    {
      "cell_type": "code",
      "source": [
        "# Group by 'country' and calculate the total number of guests for each country\n",
        "guests_by_country = hotel_booking_df.groupby('country')['total_guests'].sum().reset_index()\n",
        "\n",
        "# Sort the data by the total number of guests in descending order\n",
        "guests_by_country = guests_by_country.sort_values('total_guests', ascending=False)\n",
        "\n",
        "# Select the top 15 countries with the highest number of guests\n",
        "top_10_countries = guests_by_country.head(15)\n",
        "\n",
        "# Create the bar plot\n",
        "plt.figure(figsize=(12, 6))\n",
        "sns.barplot(data=top_10_countries, x='country', y='total_guests', palette='viridis')\n",
        "plt.title('Total Guests by Country',fontsize=15)\n",
        "plt.xlabel('Country',fontsize=15)\n",
        "plt.ylabel('Total Guests',fontsize=15)\n",
        "plt.show()\n"
      ],
      "metadata": {
        "id": "mVEDUbqwfpm-"
      },
      "execution_count": null,
      "outputs": []
    },
    {
      "cell_type": "markdown",
      "source": [
        "##### **1. Why did you pick the specific chart?**"
      ],
      "metadata": {
        "id": "X_VqEhTip1ck"
      }
    },
    {
      "cell_type": "markdown",
      "source": [
        "Bar plots are excellent for comparing different categories against a specific quantitative value. In this case, we can easily compare the total number of guests for each country and identify the top 15 countries with the highest guest counts."
      ],
      "metadata": {
        "id": "-vsMzt_np1ck"
      }
    },
    {
      "cell_type": "markdown",
      "source": [
        "##### **2. What is/are the insight(s) found from the chart?**"
      ],
      "metadata": {
        "id": "8zGJKyg5p1ck"
      }
    },
    {
      "cell_type": "markdown",
      "source": [
        "The chart reveals the countries with the highest number of guests. It shows that Portugal (PRT) is the most popular destination for hotel bookings."
      ],
      "metadata": {
        "id": "ZYdMsrqVp1ck"
      }
    },
    {
      "cell_type": "markdown",
      "source": [
        "**3. Will the gained insights help creating a positive business impact?**\n",
        "**Are there any insights that lead to negative growth? Justify with specific reason.**"
      ],
      "metadata": {
        "id": "PVzmfK_Ep1ck"
      }
    },
    {
      "cell_type": "markdown",
      "source": [
        ">**Positive Business Impact:**\n",
        "\n",
        "* The data can guide investment decisions, such as expanding hotel chains or opening new properties in countries with high guest counts. It can also lead to targeted improvements and upgrades in hotels that are more popular among guests.\n",
        "\n",
        "\n",
        ">**Insights Leading to Negative Growth:**\n",
        "\n",
        "* Relying too heavily on a few popular countries might expose hotels to risks, such as economic downturns or travel restrictions affecting those regions. Diversification of guest sources can reduce this risk."
      ],
      "metadata": {
        "id": "druuKYZpp1ck"
      }
    },
    {
      "cell_type": "markdown",
      "source": [
        "#### Chart - 12- Total Guests vs Total Stay"
      ],
      "metadata": {
        "id": "n3dbpmDWp1ck"
      }
    },
    {
      "cell_type": "code",
      "source": [
        "# Plot the scatter plot\n",
        "plt.figure(figsize=(10, 6))\n",
        "plt.scatter(hotel_booking_df['total_stay'], hotel_booking_df['total_guests'], color='r', marker='o')\n",
        "plt.title('Total Guests vs. Total Stay',fontsize=15)\n",
        "plt.xlabel('Total Stay (Weekend Nights + Week Nights)',fontsize=15)\n",
        "plt.ylabel('Total Guests',fontsize=15)\n",
        "plt.grid(True)\n",
        "plt.show()\n"
      ],
      "metadata": {
        "id": "uGznFEJNbmTc"
      },
      "execution_count": null,
      "outputs": []
    },
    {
      "cell_type": "markdown",
      "source": [
        "##### **1. Why did you pick the specific chart?**"
      ],
      "metadata": {
        "id": "ylSl6qgtp1ck"
      }
    },
    {
      "cell_type": "markdown",
      "source": [
        "The data involves two numerical variables: the total stay and the total number of guests. Scatter plots are ideal for visualizing the relationship between two continuous variables."
      ],
      "metadata": {
        "id": "m2xqNkiQp1ck"
      }
    },
    {
      "cell_type": "markdown",
      "source": [
        "##### **2. What is/are the insight(s) found from the chart?**"
      ],
      "metadata": {
        "id": "ZWILFDl5p1ck"
      }
    },
    {
      "cell_type": "markdown",
      "source": [
        "The scatter plot reveals a noticeable trend or pattern between the length of stay (total stay) and the number of guests. Most guests preferred a short-duration stay of around 15 days. However, a countable number of guests is also preferred for a long duration stay of around 60–70 days."
      ],
      "metadata": {
        "id": "x-lUsV2mp1ck"
      }
    },
    {
      "cell_type": "markdown",
      "source": [
        "**3. Will the gained insights help creating a positive business impact?**\n",
        "***Are there any insights that lead to negative growth? Justify with specific reason.***"
      ],
      "metadata": {
        "id": "M7G43BXep1ck"
      }
    },
    {
      "cell_type": "markdown",
      "source": [
        ">**Positive Business Impact:**\n",
        "\n",
        "* Understanding the relationship between stay duration and guest count can help hotel managers optimize room inventory.\n",
        "* Hotels might consider offering discounts or packages for longer stays to incentivize guests.\n",
        "\n",
        "\n",
        ">**Insights Leading to Negative Growth:**\n",
        "\n",
        "* Failure to adjust pricing or promotional strategies based on insights from the scatter plot may lead to a competitive disadvantage compared to other hotels that leverage such insights effectively."
      ],
      "metadata": {
        "id": "5wwDJXsLp1cl"
      }
    },
    {
      "cell_type": "markdown",
      "source": [
        "#### Chart - 13: Group Box-Plot"
      ],
      "metadata": {
        "id": "Ag9LCva-p1cl"
      }
    },
    {
      "cell_type": "code",
      "source": [
        "# Facet grid with box plots\n",
        "plt.figure(figsize=(10, 6))\n",
        "g = sns.FacetGrid(hotel_booking_df, col='hotel', height=5, aspect=1.2)\n",
        "g.map(sns.boxplot, 'is_canceled', 'total_guests', palette='coolwarm')\n",
        "g.set_titles(col_template=\"{col_name}\")\n",
        "plt.tight_layout()\n",
        "plt.show()\n"
      ],
      "metadata": {
        "id": "EUfxeq9-p1cl"
      },
      "execution_count": null,
      "outputs": []
    },
    {
      "cell_type": "markdown",
      "source": [
        "**1. Why did you pick the specific chart?**"
      ],
      "metadata": {
        "id": "E6MkPsBcp1cl"
      }
    },
    {
      "cell_type": "markdown",
      "source": [
        "Grouped box plots are well-suited to represent the distribution of numerical data across different categories."
      ],
      "metadata": {
        "id": "V22bRsFWp1cl"
      }
    },
    {
      "cell_type": "markdown",
      "source": [
        "**2. What is/are the insight(s) found from the chart?**"
      ],
      "metadata": {
        "id": "2cELzS2fp1cl"
      }
    },
    {
      "cell_type": "markdown",
      "source": [
        "The grouped box plot will show the distribution of 'total_guests' for both cancelled and not-cancelled bookings in each hotel type. It can provide insights into the typical number of guests for different booking scenarios.\n",
        "\n",
        "Comparing to the City Hotel, a higher number of guests cancelled their bookings at the Resort Hotel, leading to decreased Average Daily Rate (ADR) revenue for the Resort Hotel."
      ],
      "metadata": {
        "id": "ozQPc2_Ip1cl"
      }
    },
    {
      "cell_type": "markdown",
      "source": [
        "**3. Will the gained insights help creating a positive business impact?**\n",
        "***Are there any insights that lead to negative growth? Justify with specific reason.***"
      ],
      "metadata": {
        "id": "3MPXvC8up1cl"
      }
    },
    {
      "cell_type": "markdown",
      "source": [
        ">**Positive Business Impact:**\n",
        "\n",
        "* Identifying any patterns or trends related to cancellations and their relationship with guest counts can help hotels develop strategies to reduce cancellations. For instance, they can offer incentives for guests to modify their bookings instead of canceling or introduce flexible booking policies to minimize cancellations.\n",
        "\n",
        "\n",
        ">**Insights Leading to Negative Growth:**\n",
        "\n",
        "* Inconsistent or skewed 'total_guests' distributions between canceled and not canceled bookings might indicate that some guests are dissatisfied with the booking process, leading to negative reviews and reduced repeat bookings."
      ],
      "metadata": {
        "id": "GL8l1tdLp1cl"
      }
    },
    {
      "cell_type": "markdown",
      "source": [
        "#### Chart - 14 - Correlation Heatmap"
      ],
      "metadata": {
        "id": "NC_X3p0fY2L0"
      }
    },
    {
      "cell_type": "code",
      "source": [
        "# Correlation Heatmap visualization code\n",
        "plt.figure(figsize = (18,10))\n",
        "sns.heatmap(hotel_booking_df.corr(),annot = True, fmt='.2f')\n",
        "plt.title('Correlation of the Columns', fontsize = 20)\n",
        "plt.show()"
      ],
      "metadata": {
        "id": "xyC9zolEZNRQ"
      },
      "execution_count": null,
      "outputs": []
    },
    {
      "cell_type": "markdown",
      "source": [
        "**1. Why did you pick the specific chart?**"
      ],
      "metadata": {
        "id": "UV0SzAkaZNRQ"
      }
    },
    {
      "cell_type": "markdown",
      "source": [
        "The heatmap is an excellent visualization for displaying the correlation matrix between numerical columns. It allows for a quick and intuitive understanding of the relationships between different variables in the dataset."
      ],
      "metadata": {
        "id": "DVPuT8LYZNRQ"
      }
    },
    {
      "cell_type": "markdown",
      "source": [
        "**2. What is/are the insight(s) found from the chart?**"
      ],
      "metadata": {
        "id": "YPEH6qLeZNRQ"
      }
    },
    {
      "cell_type": "markdown",
      "source": [
        "There is no direct correlation between most of the columns except that where the number of total guests increases, ADR also increases, which is an obvious thing. This moderate correlations can provide insights into guest behavior, preferences, and booking patterns, which can inform strategic decision-making for the hospitality industry."
      ],
      "metadata": {
        "id": "bfSqtnDqZNRR"
      }
    },
    {
      "cell_type": "markdown",
      "source": [
        "#### Chart - 15 - Pair Plot"
      ],
      "metadata": {
        "id": "q29F0dvdveiT"
      }
    },
    {
      "cell_type": "code",
      "source": [
        "# Pair Plot visualization code\n",
        "columns= ['lead_time','arrival_date_year','total_of_special_requests','total_stay','adr','total_guests']\n",
        "sns.pairplot(hotel_booking_df[columns])\n",
        "plt.show()"
      ],
      "metadata": {
        "id": "o58-TEIhveiU"
      },
      "execution_count": null,
      "outputs": []
    },
    {
      "cell_type": "markdown",
      "source": [
        "**1. Why did you pick the specific chart?**"
      ],
      "metadata": {
        "id": "EXh0U9oCveiU"
      }
    },
    {
      "cell_type": "markdown",
      "source": [
        "The pairplot allows us to visualize the relationships between multiple numerical variables simultaneously."
      ],
      "metadata": {
        "id": "eMmPjTByveiU"
      }
    },
    {
      "cell_type": "markdown",
      "source": [
        "**2. What is/are the insight(s) found from the chart?**"
      ],
      "metadata": {
        "id": "22aHeOlLveiV"
      }
    },
    {
      "cell_type": "markdown",
      "source": [
        "* Relationship between 'total_of_special_requests' and 'lead_time':- Special request is higher for smaller lead time.\n",
        "* Relationship between 'lead_time' & 'adr':-ADR decreases as the lead_time increases.\n",
        "* Relationship between 'total_stay' & 'lead_time':- Guest tends to stay more when the lead time is less."
      ],
      "metadata": {
        "id": "uPQ8RGwHveiV"
      }
    },
    {
      "cell_type": "markdown",
      "source": [
        "## **5. Solution to Business Objective**"
      ],
      "metadata": {
        "id": "JcMwzZxoAimU"
      }
    },
    {
      "cell_type": "markdown",
      "source": [
        "#### What do you suggest the client to achieve Business Objective ?\n",
        "Explain Briefly."
      ],
      "metadata": {
        "id": "8G2x9gOozGDZ"
      }
    },
    {
      "cell_type": "markdown",
      "source": [
        "**Increase Revenue:**\n",
        "\n",
        "The primary objective of hotel businesses is to increase revenue by generating more bookings. This can be achieved by offering competitive pricing, providing attractive deals and discounts, and offering an exceptional booking experience to customers.\n",
        "\n",
        "\n",
        "**Expand Customer Base-**\n",
        "\n",
        "Another key objective is to expand the customer base by attracting new customers and retaining existing ones. This can be achieved by offering personalised services, building strong relationships with customers, and using market segments and strategies.\n",
        "\n",
        "\n",
        "**Improve customer satisfaction:**\n",
        "\n",
        "Ensure that customers are satisfied with their booking experience. This is essential to the success of any hotel business. This can be achieved by providing excellent customer service, making sure that bookings are accurate and on time, and addressing the customers complaints.\n",
        "\n",
        "\n",
        "**Focus on Enhancing Brand and Awareness of Branding**\n",
        "\n",
        "Try to build a strong brand identity in the market, which is essential for hotel business.This can be achieved by developing a unique brand identity, establishing a strong social media presence, advertising and promotions, etc.\n",
        "\n",
        "\n",
        "**Increase the efficiency of hotels:**\n",
        "\n",
        "Increased efficiency and reduced costs are another important objective for hotel businesses. This can be achieved using technology and automatic processes, reducing operation costs, and improving resources."
      ],
      "metadata": {
        "id": "pASKb0qOza21"
      }
    },
    {
      "cell_type": "markdown",
      "source": [
        "# **Conclusion**"
      ],
      "metadata": {
        "id": "gCX9965dhzqZ"
      }
    },
    {
      "cell_type": "markdown",
      "source": [
        "By performing EDA on the hotel booking dataset, this project endeavours to uncover valuable insights that can revolutionise the way hotels operate, improve customer satisfaction, and ultimately lead to better business performance. The results will provide actionable recommendations and serve as a foundation for future data-driven strategies in the hospitality industry."
      ],
      "metadata": {
        "id": "Fjb1IsQkh3yE"
      }
    },
    {
      "cell_type": "markdown",
      "source": [
        "### ***Hurrah! You have successfully completed your EDA Capstone Project !!!***"
      ],
      "metadata": {
        "id": "gIfDvo9L0UH2"
      }
    }
  ]
}